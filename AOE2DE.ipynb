{
  "nbformat": 4,
  "nbformat_minor": 0,
  "metadata": {
    "colab": {
      "provenance": [],
      "authorship_tag": "ABX9TyOa92v8p/I/ppb7HQOlftGT",
      "include_colab_link": true
    },
    "kernelspec": {
      "name": "python3",
      "display_name": "Python 3"
    },
    "language_info": {
      "name": "python"
    }
  },
  "cells": [
    {
      "cell_type": "markdown",
      "metadata": {
        "id": "view-in-github",
        "colab_type": "text"
      },
      "source": [
        "<a href=\"https://colab.research.google.com/github/nyquist/aoe2de/blob/main/AOE2DE.ipynb\" target=\"_parent\"><img src=\"https://colab.research.google.com/assets/colab-badge.svg\" alt=\"Open In Colab\"/></a>"
      ]
    },
    {
      "cell_type": "markdown",
      "source": [
        "# Config Replay"
      ],
      "metadata": {
        "id": "nUleNV1aH1e3"
      }
    },
    {
      "cell_type": "code",
      "source": [
        "#game_id = \"358345344\" #\"357732557\""
      ],
      "metadata": {
        "id": "1z4ieUYNHv8O"
      },
      "execution_count": 100,
      "outputs": []
    },
    {
      "cell_type": "markdown",
      "source": [
        "Get latest match ids"
      ],
      "metadata": {
        "id": "npg8QvOsEPmu"
      }
    },
    {
      "cell_type": "code",
      "source": [
        "import requests\n",
        "#profile_id = \"18446743\"\n",
        "relic_id = \"222475\"\n",
        "#match_type = 4\n",
        "#game = \"age2\"\n",
        "\n",
        "#profile_url = f\"https://www.ageofempires.com/stats/?profileId={profile_id}&game={game}&matchType={match_type}\"\n",
        "profile_url = f\"https://www.aoe2insights.com/user/{relic_id}/matches/\"\n",
        "response = requests.get(profile_url)\n",
        "#print (response.status_code)\n",
        "#print (response.headers)\n",
        "import re\n",
        "matches = re.finditer(r'href=\"/match/(\\d+)/\"', response.text)\n",
        "games = []\n",
        "for match in matches:\n",
        "    found_game_id = match.group(1)\n",
        "    games.append(found_game_id)\n",
        "game_id = games[0]\n",
        "print (game_id)\n",
        "new_game = False\n",
        "with open(\"last_game.txt\", \"r\") as f:\n",
        "  last_game = f.read()\n",
        "  print (\"Last Game\",last_game)\n",
        "  print (\"Current Game\", game_id)\n",
        "  if last_game != game_id:\n",
        "    new_game = True\n",
        "with open(\"last_game.txt\", \"w\") as f:\n",
        "  f.write(game_id)\n",
        "\n",
        "\n",
        "\n"
      ],
      "metadata": {
        "colab": {
          "base_uri": "https://localhost:8080/"
        },
        "id": "Sw6BpLik9qpa",
        "outputId": "5e80ebbd-8f72-4a39-e2f5-c1405860a310"
      },
      "execution_count": 101,
      "outputs": [
        {
          "output_type": "stream",
          "name": "stdout",
          "text": [
            "358591067\n",
            "Last Game 358580260\n",
            "Current Game 358591067\n"
          ]
        }
      ]
    },
    {
      "cell_type": "markdown",
      "source": [
        "#Environment Setup"
      ],
      "metadata": {
        "id": "RVf1OhfBg7H1"
      }
    },
    {
      "cell_type": "code",
      "source": [
        "! [[ -d \"aoe2de\" ]] && (cd aoe2de && git pull) || git clone https://github.com/nyquist/aoe2de.git\n",
        "! ls -la ./aoe2de/utils\n",
        "! tail aoe2de/mtmExtractBuildingsfromJson.py"
      ],
      "metadata": {
        "colab": {
          "base_uri": "https://localhost:8080/"
        },
        "id": "dclqcpcEjmEd",
        "outputId": "e3a90d65-a3dc-4fc5-84f9-7645b88837e9"
      },
      "execution_count": 102,
      "outputs": [
        {
          "output_type": "stream",
          "name": "stdout",
          "text": [
            "Already up to date.\n",
            "total 12\n",
            "drwxr-xr-x 2 root root 4096 Dec 15 19:30 .\n",
            "drwxr-xr-x 5 root root 4096 Dec 15 20:11 ..\n",
            "-rw-r--r-- 1 root root   22 Dec 15 19:30 test.py\n",
            "        else:\n",
            "            mtable = self.ecoTable\n",
            "        mtable.set_style(MARKDOWN)\n",
            "        return mtable.get_string()\n",
            "      \n",
            "\n",
            "if __name__ == '__main__':\n",
            "    print (\"Need to fix passing file_name. Try using it as a module\")\n",
            "    analyzer = BuildingsAnalyzer(\"AgeIIDE_Replay_358345344.aoe2record.json\")\n",
            "    print (analyzer.getTable(\"eco\"))\n"
          ]
        }
      ]
    },
    {
      "cell_type": "code",
      "source": [
        "import os\n",
        "\n",
        "def list_files_with_dynamic_sizes(path=\".\"):\n",
        "    \"\"\"Lists all files and their sizes with dynamic units (B, kB, MB, etc.) in the given directory.\n",
        "\n",
        "    Args:\n",
        "        path (str, optional): The directory path to list files from. Defaults to \".\" (current directory).\n",
        "    \"\"\"\n",
        "    for entry in os.scandir(path):\n",
        "        if entry.is_file():\n",
        "            file_size = os.path.getsize(entry.path)\n",
        "            unit_index = 0\n",
        "            units = [\"B\", \"kB\", \"MB\", \"GB\", \"TB\"]\n",
        "            while file_size >= 1024 and unit_index < len(units) - 1:\n",
        "                file_size /= 1024\n",
        "                unit_index += 1\n",
        "            print(f\"{entry.name}: {file_size:.2f} {units[unit_index]}\")\n",
        "\n",
        "# Call the function to list files and sizes with dynamic units in the current directory\n"
      ],
      "metadata": {
        "id": "xNccWZ9jiTdC"
      },
      "execution_count": 103,
      "outputs": []
    },
    {
      "cell_type": "markdown",
      "source": [
        "# Download record"
      ],
      "metadata": {
        "id": "SxNEt1sgN7pm"
      }
    },
    {
      "cell_type": "code",
      "source": [
        "import requests\n",
        "\n",
        "replay_url = f\"https://aoe.ms/replay/?gameId={game_id}&profileId=18446743\"  # Replace with the actual URL you copied\n",
        "\n",
        "response = requests.get(replay_url)\n",
        "response.raise_for_status()  # Raise an exception for bad responses\n",
        "print (response.status_code)\n",
        "content_disposition = response.headers['Content-Disposition']\n",
        "import re\n",
        "match = re.search(r'filename=\"?([^\";]+)\"?', content_disposition)\n",
        "if match:\n",
        "    file_name = match.group(1)\n",
        "    print(f\"Extracted filename: {file_name}\")\n",
        "    with open(file_name, \"wb\") as f:\n",
        "      f.write(response.content)\n",
        "else:\n",
        "    print(\"Filename not found in Content-Disposition header.\")\n",
        "\n",
        "\n",
        "print(f\"Replay file downloaded as {file_name}\")\n",
        "#list_files_with_dynamic_sizes()\n",
        "\n",
        "\n",
        "\n"
      ],
      "metadata": {
        "colab": {
          "base_uri": "https://localhost:8080/"
        },
        "collapsed": true,
        "id": "5CkVkvO7Siec",
        "outputId": "55d197c0-c8ab-4575-89f1-f8c5ed6cf50d"
      },
      "execution_count": 104,
      "outputs": [
        {
          "output_type": "stream",
          "name": "stdout",
          "text": [
            "200\n",
            "Extracted filename: AgeIIDE_Replay_358591067.zip\n",
            "Replay file downloaded as AgeIIDE_Replay_358591067.zip\n"
          ]
        }
      ]
    },
    {
      "cell_type": "markdown",
      "source": [
        "### Unzip record file"
      ],
      "metadata": {
        "id": "oZog8omSOA6F"
      }
    },
    {
      "cell_type": "code",
      "source": [
        "zip_file_name = file_name\n",
        "record_file_name = file_name.replace(\".zip\", \".aoe2record\")\n",
        "\n",
        "import zipfile\n",
        "import os\n",
        "\n",
        "try:\n",
        "    with zipfile.ZipFile(zip_file_name, 'r') as zip_ref:\n",
        "        zip_ref.extractall(\".\")  # Extract all files to the current directory\n",
        "    print(f\"Successfully extracted files from {zip_file_name}\")\n",
        "\n",
        "    # Find the extracted replay file (assuming it's an .mgz file)\n",
        "    extracted_file_name = None\n",
        "    for filename in os.listdir(\".\"):\n",
        "        print (filename)\n",
        "        if filename == record_file_name:\n",
        "            extracted_file_name = filename\n",
        "            break\n",
        "\n",
        "    if extracted_file_name:\n",
        "        # Process the extracted replay file\n",
        "        print (\"Extracted file:\", extracted_file_name)\n",
        "    else:\n",
        "        print(\"Error: Could not find extracted replay file (.mgz).\")\n",
        "\n",
        "except zipfile.BadZipFile:\n",
        "    print(f\"Error: {zip_file_name} is not a valid zip file.\")\n",
        "except FileNotFoundError:\n",
        "    print(f\"Error: {zip_file_name} not found.\")\n",
        "except RuntimeError as e:\n",
        "    if \"could not parse\" in str(e):\n",
        "        print(f\"Error parsing the replay file: {e}\")\n",
        "        print(\"The replay file might be corrupted or in an unsupported format.\")\n",
        "        print(\"Please try re-downloading the replay file or using a different one.\")\n",
        "    else:\n",
        "        raise  # Re-raise the exception if it's not related to parsing"
      ],
      "metadata": {
        "colab": {
          "base_uri": "https://localhost:8080/"
        },
        "id": "PtguqwcNEfk1",
        "outputId": "7e78b969-fff0-47dc-be62-f7e1eca6e06e"
      },
      "execution_count": 105,
      "outputs": [
        {
          "output_type": "stream",
          "name": "stdout",
          "text": [
            "Successfully extracted files from AgeIIDE_Replay_358591067.zip\n",
            ".config\n",
            "AgeIIDE_Replay_358567893.aoe2record\n",
            "AgeIIDE_Replay_358567893.aoe2record.json\n",
            "last_game.txt\n",
            "AgeIIDE_Replay_358591067.zip\n",
            "AgeIIDE_Replay_358591067.aoe2record\n",
            "Extracted file: AgeIIDE_Replay_358591067.aoe2record\n"
          ]
        }
      ]
    },
    {
      "cell_type": "markdown",
      "source": [
        "## Convert file to json"
      ],
      "metadata": {
        "id": "ViLnM8sqOD9M"
      }
    },
    {
      "cell_type": "code",
      "source": [
        "import json\n",
        "! pip install mgz\n",
        "from mgz.model import parse_match, serialize\n",
        "f = extracted_file_name\n",
        "outFile=f\"{extracted_file_name}.json\"\n",
        "print (f)\n",
        "with open(f, 'rb') as h:\n",
        "    match = parse_match(h)\n",
        "    # print(json.dumps(serialize(match), indent=2))\n",
        "    json_object=json.dumps(serialize(match), indent=2)\n",
        "    with open(outFile, \"w\") as o:\n",
        "        o.write(json_object)\n",
        "\n",
        "#list_files_with_dynamic_sizes()"
      ],
      "metadata": {
        "colab": {
          "base_uri": "https://localhost:8080/"
        },
        "id": "jObB0hboE1B-",
        "outputId": "3eb1f9b2-f345-4d15-f013-330ea9a68d37"
      },
      "execution_count": 106,
      "outputs": [
        {
          "output_type": "stream",
          "name": "stdout",
          "text": [
            "Requirement already satisfied: mgz in /usr/local/lib/python3.10/dist-packages (1.8.28)\n",
            "Requirement already satisfied: aocref>=2.0.20 in /usr/local/lib/python3.10/dist-packages (from mgz) (2.0.20)\n",
            "Requirement already satisfied: construct==2.8.16 in /usr/local/lib/python3.10/dist-packages (from mgz) (2.8.16)\n",
            "Requirement already satisfied: tabulate>=0.9.0 in /usr/local/lib/python3.10/dist-packages (from mgz) (0.9.0)\n",
            "AgeIIDE_Replay_358591067.aoe2record\n"
          ]
        }
      ]
    },
    {
      "cell_type": "markdown",
      "source": [],
      "metadata": {
        "id": "fwLZ_ciXE0oM"
      }
    },
    {
      "cell_type": "markdown",
      "source": [
        "# Analysis"
      ],
      "metadata": {
        "id": "nAmlKEwYOZBS"
      }
    },
    {
      "cell_type": "code",
      "source": [
        "with open(outFile, 'r') as json_file:\n",
        "    json_data = json.load(json_file)"
      ],
      "metadata": {
        "id": "unce9RHyOHP1"
      },
      "execution_count": 107,
      "outputs": []
    },
    {
      "cell_type": "markdown",
      "source": [
        "## Buildings"
      ],
      "metadata": {
        "id": "2zrBs1TWBcxq"
      }
    },
    {
      "cell_type": "code",
      "source": [
        "! tail aoe2de/mtmExtractBuildingsfromJson.py\n",
        "! pip3 install prettytable\n",
        "\n",
        "from aoe2de.mtmExtractBuildingsfromJson import BuildingsAnalyzer\n",
        "\n",
        "all_buildings = BuildingsAnalyzer(outFile)"
      ],
      "metadata": {
        "colab": {
          "base_uri": "https://localhost:8080/"
        },
        "id": "wIKrm6al6iA3",
        "outputId": "64016b43-66f3-451f-bc75-84a42008969a"
      },
      "execution_count": 108,
      "outputs": [
        {
          "output_type": "stream",
          "name": "stdout",
          "text": [
            "        else:\n",
            "            mtable = self.ecoTable\n",
            "        mtable.set_style(MARKDOWN)\n",
            "        return mtable.get_string()\n",
            "      \n",
            "\n",
            "if __name__ == '__main__':\n",
            "    print (\"Need to fix passing file_name. Try using it as a module\")\n",
            "    analyzer = BuildingsAnalyzer(\"AgeIIDE_Replay_358345344.aoe2record.json\")\n",
            "    print (analyzer.getTable(\"eco\"))\n",
            "Requirement already satisfied: prettytable in /usr/local/lib/python3.10/dist-packages (3.12.0)\n",
            "Requirement already satisfied: wcwidth in /usr/local/lib/python3.10/dist-packages (from prettytable) (0.2.13)\n",
            "+----------------+----------------+---------+---------+-------------+---------+----+------+----------------+\n",
            "|    Cladire     | email_to_mihai | imporer | nyquist | m.yesiltepe | gabisan | RA | risk | flowfranking22 |\n",
            "+----------------+----------------+---------+---------+-------------+---------+----+------+----------------+\n",
            "|   Blacksmith   |       1        |    1    |    1    |      1      |    1    | 1  |  2   |       1        |\n",
            "|    Barracks    |       6        |    1    |    3    |      11     |    7    | 0  |  0   |       1        |\n",
            "|     Stable     |       8        |    1    |    4    |      0      |    5    | 0  |  5   |       11       |\n",
            "| Archery Range  |       7        |    0    |    5    |      0      |    13   | 0  |  0   |       0        |\n",
            "| Siege Workshop |       5        |    3    |    5    |      0      |    2    | 5  |  8   |       0        |\n",
            "|     Castle     |       4        |    4    |    2    |      3      |    3    | 5  |  6   |       4        |\n",
            "|   Monastery    |       0        |    1    |    1    |      1      |    1    | 0  |  0   |       1        |\n",
            "|   University   |       1        |    1    |    1    |      1      |    1    | 1  |  1   |       1        |\n",
            "+----------------+----------------+---------+---------+-------------+---------+----+------+----------------+\n",
            "+---------------+----------------+---------+---------+-------------+---------+----+------+----------------+\n",
            "|    Cladire    | email_to_mihai | imporer | nyquist | m.yesiltepe | gabisan | RA | risk | flowfranking22 |\n",
            "+---------------+----------------+---------+---------+-------------+---------+----+------+----------------+\n",
            "|     House     |       36       |    28   |    31   |      29     |    40   | 37 |  32  |       22       |\n",
            "| Palisade Wall |       6        |    2    |    1    |      2      |    2    | 0  |  2   |       2        |\n",
            "|  Lumber Camp  |       4        |    4    |    6    |      1      |    7    | 6  |  3   |       8        |\n",
            "|      Mill     |       1        |    2    |    1    |      4      |    3    | 2  |  2   |       1        |\n",
            "|  Mining Camp  |       4        |    3    |    3    |      4      |    5    | 3  |  7   |       3        |\n",
            "|      Farm     |       45       |    18   |    40   |      46     |    64   | 59 |  40  |       67       |\n",
            "|     Market    |       2        |    1    |    2    |      1      |    4    | 2  |  3   |       1        |\n",
            "|   Stone Wall  |       5        |    1    |    7    |      1      |    4    | 3  |  2   |       2        |\n",
            "|      Gate     |       1        |    0    |    4    |      1      |    5    | 3  |  0   |       0        |\n",
            "|  Town Center  |       5        |    3    |    2    |      2      |    3    | 4  |  4   |       3        |\n",
            "|    Outpost    |       0        |    1    |    0    |      0      |    0    | 0  |  0   |       0        |\n",
            "+---------------+----------------+---------+---------+-------------+---------+----+------+----------------+\n"
          ]
        }
      ]
    },
    {
      "cell_type": "code",
      "source": [
        "def discordMessage(content):\n",
        "  from google.colab import userdata\n",
        "  userdata.get('webhook')\n",
        "\n",
        "  import requests\n",
        "\n",
        "  webhook_url = userdata.get('webhook')\n",
        "  data = {\"content\": content}\n",
        "\n",
        "  response = requests.post(webhook_url, json=data)\n",
        "\n",
        "  if response.status_code == 204:\n",
        "      print(\"Message sent successfully!\")\n",
        "  else:\n",
        "      print(f\"Failed to send message: {response.status_code}\")\n",
        "if new_game:\n",
        "  discordMessage(f\"Last game {game_id}\")\n",
        "  discordMessage(f\"```{all_buildings.getTable('eco')}```\")\n",
        "  discordMessage(f\"```{all_buildings.getTable('mil')}```\")\n",
        "else:\n",
        "  print ('No new games')\n",
        "#type(all_buildings)\n",
        "\n"
      ],
      "metadata": {
        "colab": {
          "base_uri": "https://localhost:8080/"
        },
        "id": "aIiZv6Foe0pa",
        "outputId": "2d6cda2b-8296-4ddd-d4ca-659e92e9a9ab"
      },
      "execution_count": 109,
      "outputs": [
        {
          "output_type": "stream",
          "name": "stdout",
          "text": [
            "Message sent successfully!\n",
            "Message sent successfully!\n",
            "Message sent successfully!\n"
          ]
        }
      ]
    },
    {
      "cell_type": "markdown",
      "source": [
        "## Army"
      ],
      "metadata": {
        "id": "WKRG_-ixdKPr"
      }
    }
  ]
}