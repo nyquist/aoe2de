{
  "nbformat": 4,
  "nbformat_minor": 0,
  "metadata": {
    "colab": {
      "provenance": [],
      "toc_visible": true,
      "authorship_tag": "ABX9TyMt/x7QJdE4xvIxRqE5EoU/",
      "include_colab_link": true
    },
    "kernelspec": {
      "name": "python3",
      "display_name": "Python 3"
    },
    "language_info": {
      "name": "python"
    }
  },
  "cells": [
    {
      "cell_type": "markdown",
      "metadata": {
        "id": "view-in-github",
        "colab_type": "text"
      },
      "source": [
        "<a href=\"https://colab.research.google.com/github/nyquist/aoe2de/blob/main/AOE2DE.ipynb\" target=\"_parent\"><img src=\"https://colab.research.google.com/assets/colab-badge.svg\" alt=\"Open In Colab\"/></a>"
      ]
    },
    {
      "cell_type": "markdown",
      "source": [
        "# Config Replay"
      ],
      "metadata": {
        "id": "nUleNV1aH1e3"
      }
    },
    {
      "cell_type": "code",
      "source": [
        "game_id = \"357732557\""
      ],
      "metadata": {
        "id": "1z4ieUYNHv8O"
      },
      "execution_count": 85,
      "outputs": []
    },
    {
      "cell_type": "markdown",
      "source": [
        "#Environment Setup"
      ],
      "metadata": {
        "id": "RVf1OhfBg7H1"
      }
    },
    {
      "cell_type": "code",
      "source": [
        "! [[ -d \"aoe2de\" ]] && (cd aoe2de && git pull) || git clone https://github.com/nyquist/aoe2de.git\n",
        "! ls -la ./aoe2de/utils"
      ],
      "metadata": {
        "colab": {
          "base_uri": "https://localhost:8080/"
        },
        "id": "dclqcpcEjmEd",
        "outputId": "9b908d43-c3f4-42cf-9b5e-d1064c334fc0"
      },
      "execution_count": 86,
      "outputs": [
        {
          "output_type": "stream",
          "name": "stdout",
          "text": [
            "Already up to date.\n",
            "total 12\n",
            "drwxr-xr-x 2 root root 4096 Dec 14 14:36 .\n",
            "drwxr-xr-x 5 root root 4096 Dec 14 16:59 ..\n",
            "-rw-r--r-- 1 root root   22 Dec 14 14:36 test.py\n"
          ]
        }
      ]
    },
    {
      "cell_type": "code",
      "source": [
        "import os\n",
        "\n",
        "def list_files_with_dynamic_sizes(path=\".\"):\n",
        "    \"\"\"Lists all files and their sizes with dynamic units (B, kB, MB, etc.) in the given directory.\n",
        "\n",
        "    Args:\n",
        "        path (str, optional): The directory path to list files from. Defaults to \".\" (current directory).\n",
        "    \"\"\"\n",
        "    for entry in os.scandir(path):\n",
        "        if entry.is_file():\n",
        "            file_size = os.path.getsize(entry.path)\n",
        "            unit_index = 0\n",
        "            units = [\"B\", \"kB\", \"MB\", \"GB\", \"TB\"]\n",
        "            while file_size >= 1024 and unit_index < len(units) - 1:\n",
        "                file_size /= 1024\n",
        "                unit_index += 1\n",
        "            print(f\"{entry.name}: {file_size:.2f} {units[unit_index]}\")\n",
        "\n",
        "# Call the function to list files and sizes with dynamic units in the current directory\n"
      ],
      "metadata": {
        "id": "xNccWZ9jiTdC"
      },
      "execution_count": 87,
      "outputs": []
    },
    {
      "cell_type": "markdown",
      "source": [
        "# Download record"
      ],
      "metadata": {
        "id": "SxNEt1sgN7pm"
      }
    },
    {
      "cell_type": "code",
      "source": [
        "import requests\n",
        "\n",
        "replay_url = f\"https://aoe.ms/replay/?gameId={game_id}&profileId=18446743\"  # Replace with the actual URL you copied\n",
        "\n",
        "response = requests.get(replay_url)\n",
        "response.raise_for_status()  # Raise an exception for bad responses\n",
        "print (response.status_code)\n",
        "content_disposition = response.headers['Content-Disposition']\n",
        "import re\n",
        "match = re.search(r'filename=\"?([^\";]+)\"?', content_disposition)\n",
        "if match:\n",
        "    file_name = match.group(1)\n",
        "    print(f\"Extracted filename: {file_name}\")\n",
        "    with open(file_name, \"wb\") as f:\n",
        "      f.write(response.content)\n",
        "else:\n",
        "    print(\"Filename not found in Content-Disposition header.\")\n",
        "\n",
        "\n",
        "print(f\"Replay file downloaded as {file_name}\")\n",
        "list_files_with_dynamic_sizes()\n",
        "\n",
        "\n",
        "\n"
      ],
      "metadata": {
        "colab": {
          "base_uri": "https://localhost:8080/"
        },
        "collapsed": true,
        "id": "5CkVkvO7Siec",
        "outputId": "c509f81d-c7f0-402d-860a-2fd3bce0456a"
      },
      "execution_count": 88,
      "outputs": [
        {
          "output_type": "stream",
          "name": "stdout",
          "text": [
            "200\n",
            "Extracted filename: AgeIIDE_Replay_357732557.zip\n",
            "Replay file downloaded as AgeIIDE_Replay_357732557.zip\n",
            "AgeIIDE_Replay_357732557.zip: 1.37 MB\n",
            "AgeIIDE_Replay_357732557.aoe2record: 3.09 MB\n",
            "AgeIIDE_Replay_357732557.aoe2record.json: 16.03 MB\n"
          ]
        }
      ]
    },
    {
      "cell_type": "markdown",
      "source": [
        "### Unzip record file"
      ],
      "metadata": {
        "id": "oZog8omSOA6F"
      }
    },
    {
      "cell_type": "code",
      "source": [
        "zip_file_name = file_name\n",
        "\n",
        "import zipfile\n",
        "\n",
        "try:\n",
        "    with zipfile.ZipFile(zip_file_name, 'r') as zip_ref:\n",
        "        zip_ref.extractall(\".\")  # Extract all files to the current directory\n",
        "    print(f\"Successfully extracted files from {zip_file_name}\")\n",
        "\n",
        "    # Find the extracted replay file (assuming it's an .mgz file)\n",
        "    extracted_file_name = None\n",
        "    for filename in os.listdir(\".\"):\n",
        "        print (filename)\n",
        "        if filename.endswith(\".aoe2record\"):\n",
        "            extracted_file_name = filename\n",
        "            break\n",
        "\n",
        "    if extracted_file_name:\n",
        "        # Process the extracted replay file\n",
        "        print (\"Extracted file:\", extracted_file_name)\n",
        "    else:\n",
        "        print(\"Error: Could not find extracted replay file (.mgz).\")\n",
        "\n",
        "except zipfile.BadZipFile:\n",
        "    print(f\"Error: {zip_file_name} is not a valid zip file.\")\n",
        "except FileNotFoundError:\n",
        "    print(f\"Error: {zip_file_name} not found.\")\n",
        "except RuntimeError as e:\n",
        "    if \"could not parse\" in str(e):\n",
        "        print(f\"Error parsing the replay file: {e}\")\n",
        "        print(\"The replay file might be corrupted or in an unsupported format.\")\n",
        "        print(\"Please try re-downloading the replay file or using a different one.\")\n",
        "    else:\n",
        "        raise  # Re-raise the exception if it's not related to parsing"
      ],
      "metadata": {
        "colab": {
          "base_uri": "https://localhost:8080/"
        },
        "id": "PtguqwcNEfk1",
        "outputId": "7dc9e5a6-647a-4b84-c22b-d793436d47fb"
      },
      "execution_count": 89,
      "outputs": [
        {
          "output_type": "stream",
          "name": "stdout",
          "text": [
            "Successfully extracted files from AgeIIDE_Replay_357732557.zip\n",
            ".config\n",
            "AgeIIDE_Replay_357732557.zip\n",
            "AgeIIDE_Replay_357732557.aoe2record\n",
            "Extracted file: AgeIIDE_Replay_357732557.aoe2record\n"
          ]
        }
      ]
    },
    {
      "cell_type": "markdown",
      "source": [
        "## Convert file to json"
      ],
      "metadata": {
        "id": "ViLnM8sqOD9M"
      }
    },
    {
      "cell_type": "code",
      "source": [
        "import json\n",
        "! pip install mgz\n",
        "from mgz.model import parse_match, serialize\n",
        "f = extracted_file_name\n",
        "outFile=f\"{extracted_file_name}.json\"\n",
        "print (f)\n",
        "with open(f, 'rb') as h:\n",
        "    match = parse_match(h)\n",
        "    # print(json.dumps(serialize(match), indent=2))\n",
        "    json_object=json.dumps(serialize(match), indent=2)\n",
        "    with open(outFile, \"w\") as o:\n",
        "        o.write(json_object)\n",
        "\n",
        "list_files_with_dynamic_sizes()"
      ],
      "metadata": {
        "colab": {
          "base_uri": "https://localhost:8080/"
        },
        "id": "jObB0hboE1B-",
        "outputId": "2b411d8c-5272-4b7f-c4e4-8ca6d667b292"
      },
      "execution_count": 90,
      "outputs": [
        {
          "output_type": "stream",
          "name": "stdout",
          "text": [
            "Requirement already satisfied: mgz in /usr/local/lib/python3.10/dist-packages (1.8.28)\n",
            "Requirement already satisfied: aocref>=2.0.20 in /usr/local/lib/python3.10/dist-packages (from mgz) (2.0.20)\n",
            "Requirement already satisfied: construct==2.8.16 in /usr/local/lib/python3.10/dist-packages (from mgz) (2.8.16)\n",
            "Requirement already satisfied: tabulate>=0.9.0 in /usr/local/lib/python3.10/dist-packages (from mgz) (0.9.0)\n",
            "AgeIIDE_Replay_357732557.aoe2record\n",
            "AgeIIDE_Replay_357732557.zip: 1.37 MB\n",
            "AgeIIDE_Replay_357732557.aoe2record: 3.09 MB\n",
            "AgeIIDE_Replay_357732557.aoe2record.json: 16.03 MB\n"
          ]
        }
      ]
    },
    {
      "cell_type": "markdown",
      "source": [],
      "metadata": {
        "id": "fwLZ_ciXE0oM"
      }
    },
    {
      "cell_type": "markdown",
      "source": [
        "# Analysis"
      ],
      "metadata": {
        "id": "nAmlKEwYOZBS"
      }
    },
    {
      "cell_type": "code",
      "source": [
        "with open(outFile, 'r') as json_file:\n",
        "    json_data = json.load(json_file)"
      ],
      "metadata": {
        "id": "unce9RHyOHP1"
      },
      "execution_count": 91,
      "outputs": []
    },
    {
      "cell_type": "markdown",
      "source": [
        "## Buildings"
      ],
      "metadata": {
        "id": "2zrBs1TWBcxq"
      }
    },
    {
      "cell_type": "code",
      "source": [
        "#! head aoe2de/mtmExtractBuildingsfromJson.py\n",
        "\n",
        "from aoe2de.mtmExtractBuildingsfromJson import BuildingsAnalyzer\n",
        "\n",
        "buildings = BuildingsAnalyzer(outFile)"
      ],
      "metadata": {
        "colab": {
          "base_uri": "https://localhost:8080/"
        },
        "id": "wIKrm6al6iA3",
        "outputId": "f2dffd6c-ca2b-422a-9a8c-e403002636b4"
      },
      "execution_count": 92,
      "outputs": [
        {
          "output_type": "stream",
          "name": "stdout",
          "text": [
            "risk 1\n",
            "email_to_mihai 3\n",
            "nyquist 5\n",
            "gabisan 7\n",
            "Donald 2\n",
            "Fonke 4\n",
            "jempy1990 6\n",
            "Kwak 8\n",
            "['risk', 'Donald', 'email_to_mihai', 'Fonke', 'nyquist', 'jempy1990', 'gabisan', 'Kwak']\n",
            "[{}, {}, {}, {}, {}, {}, {}, {}]\n",
            "+----------------+------+--------+----------------+-------+---------+-----------+---------+------+\n",
            "|    Cladire     | risk | Donald | email_to_mihai | Fonke | nyquist | jempy1990 | gabisan | Kwak |\n",
            "+----------------+------+--------+----------------+-------+---------+-----------+---------+------+\n",
            "|     House      |  22  |   51   |       31       |   30  |    14   |     29    |    27   |  42  |\n",
            "| Palisade Wall  |  2   |   1    |       2        |   0   |    3    |     1     |    1    |  2   |\n",
            "|  Lumber Camp   |  1   |   6    |       3        |   3   |    5    |     4     |    2    |  3   |\n",
            "|      Mill      |  1   |   1    |       1        |   1   |    2    |     1     |    1    |  2   |\n",
            "|  Mining Camp   |  2   |   4    |       4        |   4   |    3    |     4     |    5    |  3   |\n",
            "|      Farm      |  32  |   36   |       40       |   16  |    18   |     17    |    32   |  79  |\n",
            "| Palisade Gate  |  0   |   0    |       0        |   1   |    0    |     0     |    0    |  1   |\n",
            "|    Barracks    |  0   |   7    |       1        |   1   |    2    |     1     |    4    |  5   |\n",
            "|      Dock      |  0   |   0    |       0        |   0   |    2    |     0     |    0    |  1   |\n",
            "|     Market     |  3   |   1    |       2        |   1   |    1    |     1     |    2    |  1   |\n",
            "|   Blacksmith   |  1   |   1    |       1        |   1   |    1    |     1     |    1    |  1   |\n",
            "|  Watch Tower   |  0   |   0    |       0        |   0   |    1    |     3     |    2    |  1   |\n",
            "|   Stone Wall   |  4   |   1    |       0        |   0   |    2    |     1     |    3    |  7   |\n",
            "|      Gate      |  3   |   1    |       0        |   0   |    0    |     1     |    2    |  4   |\n",
            "|     Stable     |  6   |   8    |       9        |   0   |    3    |     1     |    1    |  20  |\n",
            "|   Monastery    |  0   |   1    |       0        |   1   |    2    |     1     |    0    |  0   |\n",
            "| Siege Workshop |  4   |   7    |       2        |   1   |    0    |     2     |    1    |  0   |\n",
            "|  Town Center   |  3   |   3    |       4        |   0   |    4    |     1     |    2    |  4   |\n",
            "| Archery Range  |  0   |   0    |       3        |   2   |    1    |     1     |    4    |  0   |\n",
            "|    Outpost     |  0   |   2    |       0        |   0   |    0    |     0     |    2    |  0   |\n",
            "|     Castle     |  1   |   2    |       2        |   0   |    0    |     2     |    4    |  1   |\n",
            "|   University   |  1   |   1    |       0        |   0   |    0    |     1     |    1    |  1   |\n",
            "|   Fish Trap    |  0   |   0    |       0        |   0   |    5    |     0     |    0    |  3   |\n",
            "+----------------+------+--------+----------------+-------+---------+-----------+---------+------+\n"
          ]
        }
      ]
    }
  ]
}