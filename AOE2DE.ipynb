{
  "nbformat": 4,
  "nbformat_minor": 0,
  "metadata": {
    "colab": {
      "provenance": [],
      "toc_visible": true,
      "authorship_tag": "ABX9TyOPluNGE199nOUkrTTSdGtb",
      "include_colab_link": true
    },
    "kernelspec": {
      "name": "python3",
      "display_name": "Python 3"
    },
    "language_info": {
      "name": "python"
    }
  },
  "cells": [
    {
      "cell_type": "markdown",
      "metadata": {
        "id": "view-in-github",
        "colab_type": "text"
      },
      "source": [
        "<a href=\"https://colab.research.google.com/github/nyquist/aoe2de/blob/main/AOE2DE.ipynb\" target=\"_parent\"><img src=\"https://colab.research.google.com/assets/colab-badge.svg\" alt=\"Open In Colab\"/></a>"
      ]
    },
    {
      "cell_type": "markdown",
      "source": [
        "# Config Replay"
      ],
      "metadata": {
        "id": "nUleNV1aH1e3"
      }
    },
    {
      "cell_type": "code",
      "source": [
        "#game_id = \"358345344\" #\"357732557\""
      ],
      "metadata": {
        "id": "1z4ieUYNHv8O"
      },
      "execution_count": 1,
      "outputs": []
    },
    {
      "cell_type": "markdown",
      "source": [
        "Get latest match ids"
      ],
      "metadata": {
        "id": "npg8QvOsEPmu"
      }
    },
    {
      "cell_type": "code",
      "source": [
        "import requests\n",
        "#profile_id = \"18446743\"\n",
        "relic_id = \"222475\"\n",
        "#match_type = 4\n",
        "#game = \"age2\"\n",
        "\n",
        "#profile_url = f\"https://www.ageofempires.com/stats/?profileId={profile_id}&game={game}&matchType={match_type}\"\n",
        "profile_url = f\"https://www.aoe2insights.com/user/{relic_id}/matches/\"\n",
        "response = requests.get(profile_url)\n",
        "#print (response.status_code)\n",
        "#print (response.headers)\n",
        "import re\n",
        "matches = re.finditer(r'href=\"/match/(\\d+)/\"', response.text)\n",
        "games = []\n",
        "for match in matches:\n",
        "    found_game_id = match.group(1)\n",
        "    games.append(found_game_id)\n",
        "game_id = games[0]\n",
        "print (game_id)\n",
        "\n"
      ],
      "metadata": {
        "colab": {
          "base_uri": "https://localhost:8080/"
        },
        "id": "Sw6BpLik9qpa",
        "outputId": "becae3d0-ae5a-484c-f6bf-8f5c5f706245"
      },
      "execution_count": 2,
      "outputs": [
        {
          "output_type": "stream",
          "name": "stdout",
          "text": [
            "358345344\n"
          ]
        }
      ]
    },
    {
      "cell_type": "markdown",
      "source": [
        "#Environment Setup"
      ],
      "metadata": {
        "id": "RVf1OhfBg7H1"
      }
    },
    {
      "cell_type": "code",
      "source": [
        "! [[ -d \"aoe2de\" ]] && (cd aoe2de && git pull) || git clone https://github.com/nyquist/aoe2de.git\n",
        "! ls -la ./aoe2de/utils\n",
        "! tail aoe2de/mtmExtractBuildingsfromJson.py"
      ],
      "metadata": {
        "colab": {
          "base_uri": "https://localhost:8080/"
        },
        "id": "dclqcpcEjmEd",
        "outputId": "250ce4f6-07cf-4965-9ce5-d710c8e26d00"
      },
      "execution_count": 3,
      "outputs": [
        {
          "output_type": "stream",
          "name": "stdout",
          "text": [
            "Cloning into 'aoe2de'...\n",
            "remote: Enumerating objects: 82, done.\u001b[K\n",
            "remote: Counting objects: 100% (82/82), done.\u001b[K\n",
            "remote: Compressing objects: 100% (71/71), done.\u001b[K\n",
            "remote: Total 82 (delta 45), reused 13 (delta 6), pack-reused 0 (from 0)\u001b[K\n",
            "Receiving objects: 100% (82/82), 2.02 MiB | 2.93 MiB/s, done.\n",
            "Resolving deltas: 100% (45/45), done.\n",
            "total 12\n",
            "drwxr-xr-x 2 root root 4096 Dec 15 00:00 .\n",
            "drwxr-xr-x 4 root root 4096 Dec 15 00:00 ..\n",
            "-rw-r--r-- 1 root root   22 Dec 15 00:00 test.py\n",
            "        else:\n",
            "            mtable = self.ecoTable\n",
            "        mtable.set_style(MARKDOWN)\n",
            "        return mtable.get_string()\n",
            "      \n",
            "\n",
            "if __name__ == '__main__':\n",
            "    print (\"Need to fix passing file_name. Try using it as a module\")\n",
            "    analyzer = BuildingsAnalyzer(\"AgeIIDE_Replay_358345344.aoe2record.json\")\n",
            "    print (analyzer.getTable(\"eco\"))\n"
          ]
        }
      ]
    },
    {
      "cell_type": "code",
      "source": [
        "import os\n",
        "\n",
        "def list_files_with_dynamic_sizes(path=\".\"):\n",
        "    \"\"\"Lists all files and their sizes with dynamic units (B, kB, MB, etc.) in the given directory.\n",
        "\n",
        "    Args:\n",
        "        path (str, optional): The directory path to list files from. Defaults to \".\" (current directory).\n",
        "    \"\"\"\n",
        "    for entry in os.scandir(path):\n",
        "        if entry.is_file():\n",
        "            file_size = os.path.getsize(entry.path)\n",
        "            unit_index = 0\n",
        "            units = [\"B\", \"kB\", \"MB\", \"GB\", \"TB\"]\n",
        "            while file_size >= 1024 and unit_index < len(units) - 1:\n",
        "                file_size /= 1024\n",
        "                unit_index += 1\n",
        "            print(f\"{entry.name}: {file_size:.2f} {units[unit_index]}\")\n",
        "\n",
        "# Call the function to list files and sizes with dynamic units in the current directory\n"
      ],
      "metadata": {
        "id": "xNccWZ9jiTdC"
      },
      "execution_count": 4,
      "outputs": []
    },
    {
      "cell_type": "markdown",
      "source": [
        "# Download record"
      ],
      "metadata": {
        "id": "SxNEt1sgN7pm"
      }
    },
    {
      "cell_type": "code",
      "source": [
        "import requests\n",
        "\n",
        "replay_url = f\"https://aoe.ms/replay/?gameId={game_id}&profileId=18446743\"  # Replace with the actual URL you copied\n",
        "\n",
        "response = requests.get(replay_url)\n",
        "response.raise_for_status()  # Raise an exception for bad responses\n",
        "print (response.status_code)\n",
        "content_disposition = response.headers['Content-Disposition']\n",
        "import re\n",
        "match = re.search(r'filename=\"?([^\";]+)\"?', content_disposition)\n",
        "if match:\n",
        "    file_name = match.group(1)\n",
        "    print(f\"Extracted filename: {file_name}\")\n",
        "    with open(file_name, \"wb\") as f:\n",
        "      f.write(response.content)\n",
        "else:\n",
        "    print(\"Filename not found in Content-Disposition header.\")\n",
        "\n",
        "\n",
        "print(f\"Replay file downloaded as {file_name}\")\n",
        "list_files_with_dynamic_sizes()\n",
        "\n",
        "\n",
        "\n"
      ],
      "metadata": {
        "colab": {
          "base_uri": "https://localhost:8080/"
        },
        "collapsed": true,
        "id": "5CkVkvO7Siec",
        "outputId": "aef87af1-eea9-422a-fc4a-2fc14eceeca4"
      },
      "execution_count": 5,
      "outputs": [
        {
          "output_type": "stream",
          "name": "stdout",
          "text": [
            "200\n",
            "Extracted filename: AgeIIDE_Replay_358345344.zip\n",
            "Replay file downloaded as AgeIIDE_Replay_358345344.zip\n",
            "AgeIIDE_Replay_358345344.zip: 1.48 MB\n"
          ]
        }
      ]
    },
    {
      "cell_type": "markdown",
      "source": [
        "### Unzip record file"
      ],
      "metadata": {
        "id": "oZog8omSOA6F"
      }
    },
    {
      "cell_type": "code",
      "source": [
        "zip_file_name = file_name\n",
        "record_file_name = file_name.replace(\".zip\", \".aoe2record\")\n",
        "\n",
        "import zipfile\n",
        "\n",
        "try:\n",
        "    with zipfile.ZipFile(zip_file_name, 'r') as zip_ref:\n",
        "        zip_ref.extractall(\".\")  # Extract all files to the current directory\n",
        "    print(f\"Successfully extracted files from {zip_file_name}\")\n",
        "\n",
        "    # Find the extracted replay file (assuming it's an .mgz file)\n",
        "    extracted_file_name = None\n",
        "    for filename in os.listdir(\".\"):\n",
        "        print (filename)\n",
        "        if filename == record_file_name:\n",
        "            extracted_file_name = filename\n",
        "            break\n",
        "\n",
        "    if extracted_file_name:\n",
        "        # Process the extracted replay file\n",
        "        print (\"Extracted file:\", extracted_file_name)\n",
        "    else:\n",
        "        print(\"Error: Could not find extracted replay file (.mgz).\")\n",
        "\n",
        "except zipfile.BadZipFile:\n",
        "    print(f\"Error: {zip_file_name} is not a valid zip file.\")\n",
        "except FileNotFoundError:\n",
        "    print(f\"Error: {zip_file_name} not found.\")\n",
        "except RuntimeError as e:\n",
        "    if \"could not parse\" in str(e):\n",
        "        print(f\"Error parsing the replay file: {e}\")\n",
        "        print(\"The replay file might be corrupted or in an unsupported format.\")\n",
        "        print(\"Please try re-downloading the replay file or using a different one.\")\n",
        "    else:\n",
        "        raise  # Re-raise the exception if it's not related to parsing"
      ],
      "metadata": {
        "colab": {
          "base_uri": "https://localhost:8080/"
        },
        "id": "PtguqwcNEfk1",
        "outputId": "93c933ca-4533-4fc0-a0b2-3dc27fe64a48"
      },
      "execution_count": 6,
      "outputs": [
        {
          "output_type": "stream",
          "name": "stdout",
          "text": [
            "Successfully extracted files from AgeIIDE_Replay_358345344.zip\n",
            ".config\n",
            "AgeIIDE_Replay_358345344.aoe2record\n",
            "Extracted file: AgeIIDE_Replay_358345344.aoe2record\n"
          ]
        }
      ]
    },
    {
      "cell_type": "markdown",
      "source": [
        "## Convert file to json"
      ],
      "metadata": {
        "id": "ViLnM8sqOD9M"
      }
    },
    {
      "cell_type": "code",
      "source": [
        "import json\n",
        "! pip install mgz\n",
        "from mgz.model import parse_match, serialize\n",
        "f = extracted_file_name\n",
        "outFile=f\"{extracted_file_name}.json\"\n",
        "print (f)\n",
        "with open(f, 'rb') as h:\n",
        "    match = parse_match(h)\n",
        "    # print(json.dumps(serialize(match), indent=2))\n",
        "    json_object=json.dumps(serialize(match), indent=2)\n",
        "    with open(outFile, \"w\") as o:\n",
        "        o.write(json_object)\n",
        "\n",
        "list_files_with_dynamic_sizes()"
      ],
      "metadata": {
        "colab": {
          "base_uri": "https://localhost:8080/"
        },
        "id": "jObB0hboE1B-",
        "outputId": "2a139c33-fd63-41d2-9820-8c79e2746fc7"
      },
      "execution_count": 7,
      "outputs": [
        {
          "output_type": "stream",
          "name": "stdout",
          "text": [
            "Collecting mgz\n",
            "  Downloading mgz-1.8.28.tar.gz (62 kB)\n",
            "\u001b[2K     \u001b[90m━━━━━━━━━━━━━━━━━━━━━━━━━━━━━━━━━━━━━━━━\u001b[0m \u001b[32m63.0/63.0 kB\u001b[0m \u001b[31m1.7 MB/s\u001b[0m eta \u001b[36m0:00:00\u001b[0m\n",
            "\u001b[?25h  Preparing metadata (setup.py) ... \u001b[?25l\u001b[?25hdone\n",
            "Collecting aocref>=2.0.20 (from mgz)\n",
            "  Downloading aocref-2.0.20.tar.gz (80 kB)\n",
            "\u001b[2K     \u001b[90m━━━━━━━━━━━━━━━━━━━━━━━━━━━━━━━━━━━━━━━━\u001b[0m \u001b[32m80.4/80.4 kB\u001b[0m \u001b[31m3.6 MB/s\u001b[0m eta \u001b[36m0:00:00\u001b[0m\n",
            "\u001b[?25h  Preparing metadata (setup.py) ... \u001b[?25l\u001b[?25hdone\n",
            "Collecting construct==2.8.16 (from mgz)\n",
            "  Downloading construct-2.8.16.tar.gz (63 kB)\n",
            "\u001b[2K     \u001b[90m━━━━━━━━━━━━━━━━━━━━━━━━━━━━━━━━━━━━━━━━\u001b[0m \u001b[32m63.6/63.6 kB\u001b[0m \u001b[31m4.4 MB/s\u001b[0m eta \u001b[36m0:00:00\u001b[0m\n",
            "\u001b[?25h  Preparing metadata (setup.py) ... \u001b[?25l\u001b[?25hdone\n",
            "Requirement already satisfied: tabulate>=0.9.0 in /usr/local/lib/python3.10/dist-packages (from mgz) (0.9.0)\n",
            "Building wheels for collected packages: mgz, construct, aocref\n",
            "  Building wheel for mgz (setup.py) ... \u001b[?25l\u001b[?25hdone\n",
            "  Created wheel for mgz: filename=mgz-1.8.28-py3-none-any.whl size=72422 sha256=291a7fe6dcae32cdc534e611de16f3effcb2643f5a9e721cd620997e34202771\n",
            "  Stored in directory: /root/.cache/pip/wheels/71/f0/68/23ed8196623ac82c61348a1fdee66446ac501bf9a1bf635720\n",
            "  Building wheel for construct (setup.py) ... \u001b[?25l\u001b[?25hdone\n",
            "  Created wheel for construct: filename=construct-2.8.16-py2.py3-none-any.whl size=70258 sha256=fd0b867e87cdf0d3bee5fbd74a12d69acc192250ee413f088c909be18c78a3a8\n",
            "  Stored in directory: /root/.cache/pip/wheels/78/37/f7/3a9d487ec99b26560f68e030c537774c3ed4e4e39128c40bf7\n",
            "  Building wheel for aocref (setup.py) ... \u001b[?25l\u001b[?25hdone\n",
            "  Created wheel for aocref: filename=aocref-2.0.20-py3-none-any.whl size=94222 sha256=5979da970bc9582722dd9b5d20417383cb812200a2a953218e09b79624b20be8\n",
            "  Stored in directory: /root/.cache/pip/wheels/c1/bd/5c/6dba35ee9788badd3e1bf97493041031eade06109c3715619c\n",
            "Successfully built mgz construct aocref\n",
            "Installing collected packages: construct, aocref, mgz\n",
            "Successfully installed aocref-2.0.20 construct-2.8.16 mgz-1.8.28\n",
            "AgeIIDE_Replay_358345344.aoe2record\n",
            "AgeIIDE_Replay_358345344.aoe2record: 3.16 MB\n",
            "AgeIIDE_Replay_358345344.zip: 1.48 MB\n",
            "AgeIIDE_Replay_358345344.aoe2record.json: 21.61 MB\n"
          ]
        }
      ]
    },
    {
      "cell_type": "markdown",
      "source": [],
      "metadata": {
        "id": "fwLZ_ciXE0oM"
      }
    },
    {
      "cell_type": "markdown",
      "source": [
        "# Analysis"
      ],
      "metadata": {
        "id": "nAmlKEwYOZBS"
      }
    },
    {
      "cell_type": "code",
      "source": [
        "with open(outFile, 'r') as json_file:\n",
        "    json_data = json.load(json_file)"
      ],
      "metadata": {
        "id": "unce9RHyOHP1"
      },
      "execution_count": 8,
      "outputs": []
    },
    {
      "cell_type": "markdown",
      "source": [
        "## Buildings"
      ],
      "metadata": {
        "id": "2zrBs1TWBcxq"
      }
    },
    {
      "cell_type": "code",
      "source": [
        "! tail aoe2de/mtmExtractBuildingsfromJson.py\n",
        "! pip3 install prettytable\n",
        "\n",
        "from aoe2de.mtmExtractBuildingsfromJson import BuildingsAnalyzer\n",
        "\n",
        "all_buildings = BuildingsAnalyzer(outFile)"
      ],
      "metadata": {
        "colab": {
          "base_uri": "https://localhost:8080/"
        },
        "id": "wIKrm6al6iA3",
        "outputId": "d002cf07-72b0-4eee-b012-12a12186c5af"
      },
      "execution_count": 9,
      "outputs": [
        {
          "output_type": "stream",
          "name": "stdout",
          "text": [
            "        else:\n",
            "            mtable = self.ecoTable\n",
            "        mtable.set_style(MARKDOWN)\n",
            "        return mtable.get_string()\n",
            "      \n",
            "\n",
            "if __name__ == '__main__':\n",
            "    print (\"Need to fix passing file_name. Try using it as a module\")\n",
            "    analyzer = BuildingsAnalyzer(\"AgeIIDE_Replay_358345344.aoe2record.json\")\n",
            "    print (analyzer.getTable(\"eco\"))\n",
            "Requirement already satisfied: prettytable in /usr/local/lib/python3.10/dist-packages (3.12.0)\n",
            "Requirement already satisfied: wcwidth in /usr/local/lib/python3.10/dist-packages (from prettytable) (0.2.13)\n",
            "email_to_mihai 1\n",
            "nyquist 3\n",
            "gabisan 5\n",
            "risk 7\n",
            "CANAFARCI 2\n",
            "衝浪小王子 4\n",
            "sHmOoPie :) 6\n",
            "球球你别跑 8\n",
            "['email_to_mihai', 'CANAFARCI', 'nyquist', '衝浪小王子', 'gabisan', 'sHmOoPie :)', 'risk', '球球你别跑']\n",
            "[{}, {}, {}, {}, {}, {}, {}, {}]\n",
            "+----------------+----------------+-----------+---------+------------+---------+-------------+------+------------+\n",
            "|    Cladire     | email_to_mihai | CANAFARCI | nyquist | 衝浪小王子 | gabisan | sHmOoPie :) | risk | 球球你别跑 |\n",
            "+----------------+----------------+-----------+---------+------------+---------+-------------+------+------------+\n",
            "|    Barracks    |       1        |     17    |    8    |     14     |    2    |      10     |  8   |     1      |\n",
            "|   Blacksmith   |       2        |     1     |    1    |     1      |    1    |      2      |  1   |     1      |\n",
            "|     Stable     |       17       |     0     |    5    |     10     |    3    |      1      |  7   |     17     |\n",
            "|  Watch Tower   |       0        |     0     |    0    |     0      |    1    |      0      |  0   |     0      |\n",
            "|     Castle     |       3        |     4     |    1    |     4      |    5    |      3      |  4   |     6      |\n",
            "|   Monastery    |       0        |     1     |    1    |     1      |    1    |      0      |  0   |     1      |\n",
            "|   University   |       0        |     1     |    1    |     0      |    1    |      1      |  1   |     1      |\n",
            "| Siege Workshop |       2        |     4     |    7    |     2      |    9    |      7      |  7   |     6      |\n",
            "| Archery Range  |       7        |     15    |    4    |     0      |    0    |      0      |  0   |     0      |\n",
            "+----------------+----------------+-----------+---------+------------+---------+-------------+------+------------+\n",
            "+---------------+----------------+-----------+---------+------------+---------+-------------+------+------------+\n",
            "|    Cladire    | email_to_mihai | CANAFARCI | nyquist | 衝浪小王子 | gabisan | sHmOoPie :) | risk | 球球你别跑 |\n",
            "+---------------+----------------+-----------+---------+------------+---------+-------------+------+------------+\n",
            "|     House     |       37       |     47    |    35   |     41     |    45   |      43     |  28  |     47     |\n",
            "|  Lumber Camp  |       4        |     4     |    8    |     8      |    4    |      5      |  5   |     7      |\n",
            "| Palisade Wall |       4        |     8     |    3    |     1      |    2    |      2      |  0   |     12     |\n",
            "|      Mill     |       1        |     2     |    1    |     6      |    3    |      3      |  1   |     5      |\n",
            "|  Mining Camp  |       2        |     6     |    5    |     7      |    7    |      4      |  5   |     7      |\n",
            "| Palisade Gate |       0        |     0     |    0    |     3      |    0    |      0      |  0   |     7      |\n",
            "|      Farm     |       77       |     83    |    41   |     92     |    78   |      65     |  36  |    180     |\n",
            "|    Outpost    |       0        |     0     |    0    |     0      |    1    |      0      |  0   |     2      |\n",
            "|     Market    |       3        |     5     |    1    |     7      |    3    |      5      |  4   |     5      |\n",
            "|   Stone Wall  |       4        |     2     |    1    |     0      |    3    |      4      |  0   |     0      |\n",
            "|      Dock     |       0        |     0     |    0    |     0      |    1    |      0      |  0   |     0      |\n",
            "|      Gate     |       1        |     2     |    1    |     0      |    6    |      3      |  0   |     0      |\n",
            "|  Town Center  |       6        |     4     |    2    |     2      |    5    |      4      |  4   |     3      |\n",
            "|   Fish Trap   |       0        |     0     |    0    |     0      |    11   |      0      |  0   |     0      |\n",
            "+---------------+----------------+-----------+---------+------------+---------+-------------+------+------------+\n"
          ]
        }
      ]
    },
    {
      "cell_type": "code",
      "source": [
        "def discordMessage(content):\n",
        "  from google.colab import userdata\n",
        "  userdata.get('webhook')\n",
        "\n",
        "  import requests\n",
        "\n",
        "  webhook_url = userdata.get('webhook')\n",
        "  data = {\"content\": content}\n",
        "\n",
        "  response = requests.post(webhook_url, json=data)\n",
        "\n",
        "  if response.status_code == 204:\n",
        "      print(\"Message sent successfully!\")\n",
        "  else:\n",
        "      print(f\"Failed to send message: {response.status_code}\")\n",
        "\n",
        "discordMessage(f\"Last game {game_id}\")\n",
        "discordMessage(f\"```{all_buildings.getTable('eco')}```\")\n",
        "discordMessage(f\"```{all_buildings.getTable('mil')}```\")\n",
        "#type(all_buildings)\n",
        "\n"
      ],
      "metadata": {
        "colab": {
          "base_uri": "https://localhost:8080/"
        },
        "id": "aIiZv6Foe0pa",
        "outputId": "3d3543c9-a40f-459f-c00d-a1b2dddafe16"
      },
      "execution_count": 14,
      "outputs": [
        {
          "output_type": "stream",
          "name": "stdout",
          "text": [
            "Message sent successfully!\n",
            "Message sent successfully!\n",
            "Message sent successfully!\n"
          ]
        }
      ]
    },
    {
      "cell_type": "markdown",
      "source": [
        "## Army"
      ],
      "metadata": {
        "id": "WKRG_-ixdKPr"
      }
    }
  ]
}