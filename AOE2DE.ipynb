{
  "nbformat": 4,
  "nbformat_minor": 0,
  "metadata": {
    "colab": {
      "provenance": [],
      "authorship_tag": "ABX9TyMzA6fJK2Z5wQSO8rA98Efw",
      "include_colab_link": true
    },
    "kernelspec": {
      "name": "python3",
      "display_name": "Python 3"
    },
    "language_info": {
      "name": "python"
    }
  },
  "cells": [
    {
      "cell_type": "markdown",
      "metadata": {
        "id": "view-in-github",
        "colab_type": "text"
      },
      "source": [
        "<a href=\"https://colab.research.google.com/github/nyquist/aoe2de/blob/main/AOE2DE.ipynb\" target=\"_parent\"><img src=\"https://colab.research.google.com/assets/colab-badge.svg\" alt=\"Open In Colab\"/></a>"
      ]
    },
    {
      "cell_type": "markdown",
      "source": [
        "# Config Replay"
      ],
      "metadata": {
        "id": "nUleNV1aH1e3"
      }
    },
    {
      "cell_type": "code",
      "source": [
        "#game_id = \"358345344\" #\"357732557\""
      ],
      "metadata": {
        "id": "1z4ieUYNHv8O"
      },
      "execution_count": 127,
      "outputs": []
    },
    {
      "cell_type": "markdown",
      "source": [
        "Get latest match ids"
      ],
      "metadata": {
        "id": "npg8QvOsEPmu"
      }
    },
    {
      "cell_type": "code",
      "source": [
        "import requests\n",
        "#profile_id = \"18446743\"\n",
        "relic_id = \"222475\"\n",
        "#match_type = 4\n",
        "#game = \"age2\"\n",
        "\n",
        "#profile_url = f\"https://www.ageofempires.com/stats/?profileId={profile_id}&game={game}&matchType={match_type}\"\n",
        "profile_url = f\"https://www.aoe2insights.com/user/{relic_id}/matches/\"\n",
        "response = requests.get(profile_url)\n",
        "#print (response.status_code)\n",
        "#print (response.headers)\n",
        "import re\n",
        "matches = re.finditer(r'href=\"/match/(\\d+)/\"', response.text)\n",
        "games = []\n",
        "for match in matches:\n",
        "    found_game_id = match.group(1)\n",
        "    games.append(found_game_id)\n",
        "game_id = games[0]\n",
        "print (game_id)\n",
        "\n"
      ],
      "metadata": {
        "colab": {
          "base_uri": "https://localhost:8080/"
        },
        "id": "Sw6BpLik9qpa",
        "outputId": "6d543ef4-f0d5-4dd2-c673-7a16a03cf507"
      },
      "execution_count": 128,
      "outputs": [
        {
          "output_type": "stream",
          "name": "stdout",
          "text": [
            "358345344\n"
          ]
        }
      ]
    },
    {
      "cell_type": "markdown",
      "source": [
        "#Environment Setup"
      ],
      "metadata": {
        "id": "RVf1OhfBg7H1"
      }
    },
    {
      "cell_type": "code",
      "source": [
        "! [[ -d \"aoe2de\" ]] && (cd aoe2de && git pull) || git clone https://github.com/nyquist/aoe2de.git\n",
        "! ls -la ./aoe2de/utils"
      ],
      "metadata": {
        "colab": {
          "base_uri": "https://localhost:8080/"
        },
        "id": "dclqcpcEjmEd",
        "outputId": "13ff23be-b2dc-4e0e-9739-185a4eb8551d"
      },
      "execution_count": 129,
      "outputs": [
        {
          "output_type": "stream",
          "name": "stdout",
          "text": [
            "Already up to date.\n",
            "total 12\n",
            "drwxr-xr-x 2 root root 4096 Dec 14 18:18 .\n",
            "drwxr-xr-x 5 root root 4096 Dec 14 22:32 ..\n",
            "-rw-r--r-- 1 root root   22 Dec 14 18:18 test.py\n"
          ]
        }
      ]
    },
    {
      "cell_type": "code",
      "source": [
        "import os\n",
        "\n",
        "def list_files_with_dynamic_sizes(path=\".\"):\n",
        "    \"\"\"Lists all files and their sizes with dynamic units (B, kB, MB, etc.) in the given directory.\n",
        "\n",
        "    Args:\n",
        "        path (str, optional): The directory path to list files from. Defaults to \".\" (current directory).\n",
        "    \"\"\"\n",
        "    for entry in os.scandir(path):\n",
        "        if entry.is_file():\n",
        "            file_size = os.path.getsize(entry.path)\n",
        "            unit_index = 0\n",
        "            units = [\"B\", \"kB\", \"MB\", \"GB\", \"TB\"]\n",
        "            while file_size >= 1024 and unit_index < len(units) - 1:\n",
        "                file_size /= 1024\n",
        "                unit_index += 1\n",
        "            print(f\"{entry.name}: {file_size:.2f} {units[unit_index]}\")\n",
        "\n",
        "# Call the function to list files and sizes with dynamic units in the current directory\n"
      ],
      "metadata": {
        "id": "xNccWZ9jiTdC"
      },
      "execution_count": 130,
      "outputs": []
    },
    {
      "cell_type": "markdown",
      "source": [
        "# Download record"
      ],
      "metadata": {
        "id": "SxNEt1sgN7pm"
      }
    },
    {
      "cell_type": "code",
      "source": [
        "import requests\n",
        "\n",
        "replay_url = f\"https://aoe.ms/replay/?gameId={game_id}&profileId=18446743\"  # Replace with the actual URL you copied\n",
        "\n",
        "response = requests.get(replay_url)\n",
        "response.raise_for_status()  # Raise an exception for bad responses\n",
        "print (response.status_code)\n",
        "content_disposition = response.headers['Content-Disposition']\n",
        "import re\n",
        "match = re.search(r'filename=\"?([^\";]+)\"?', content_disposition)\n",
        "if match:\n",
        "    file_name = match.group(1)\n",
        "    print(f\"Extracted filename: {file_name}\")\n",
        "    with open(file_name, \"wb\") as f:\n",
        "      f.write(response.content)\n",
        "else:\n",
        "    print(\"Filename not found in Content-Disposition header.\")\n",
        "\n",
        "\n",
        "print(f\"Replay file downloaded as {file_name}\")\n",
        "list_files_with_dynamic_sizes()\n",
        "\n",
        "\n",
        "\n"
      ],
      "metadata": {
        "colab": {
          "base_uri": "https://localhost:8080/"
        },
        "collapsed": true,
        "id": "5CkVkvO7Siec",
        "outputId": "750d28b5-b795-4f51-ce9d-9ed941f4b903"
      },
      "execution_count": 131,
      "outputs": [
        {
          "output_type": "stream",
          "name": "stdout",
          "text": [
            "200\n",
            "Extracted filename: AgeIIDE_Replay_358345344.zip\n",
            "Replay file downloaded as AgeIIDE_Replay_358345344.zip\n",
            "AgeIIDE_Replay_358331220.aoe2record.json: 16.02 MB\n",
            "AgeIIDE_Replay_358106354.zip: 1.54 MB\n",
            "AgeIIDE_Replay_357732557.zip: 1.37 MB\n",
            "AgeIIDE_Replay_357732557.aoe2record: 3.09 MB\n",
            "AgeIIDE_Replay_358345344.aoe2record: 3.16 MB\n",
            "AgeIIDE_Replay_358331220.aoe2record: 2.59 MB\n",
            "AgeIIDE_Replay_357732557.aoe2record.json: 16.03 MB\n",
            "AgeIIDE_Replay_358106354.aoe2record: 3.72 MB\n",
            "AgeIIDE_Replay_358345344.zip: 1.48 MB\n",
            "AgeIIDE_Replay_358345344.aoe2record.json: 21.61 MB\n",
            "AgeIIDE_Replay_358331220.zip: 1.37 MB\n"
          ]
        }
      ]
    },
    {
      "cell_type": "markdown",
      "source": [
        "### Unzip record file"
      ],
      "metadata": {
        "id": "oZog8omSOA6F"
      }
    },
    {
      "cell_type": "code",
      "source": [
        "zip_file_name = file_name\n",
        "record_file_name = file_name.replace(\".zip\", \".aoe2record\")\n",
        "\n",
        "import zipfile\n",
        "\n",
        "try:\n",
        "    with zipfile.ZipFile(zip_file_name, 'r') as zip_ref:\n",
        "        zip_ref.extractall(\".\")  # Extract all files to the current directory\n",
        "    print(f\"Successfully extracted files from {zip_file_name}\")\n",
        "\n",
        "    # Find the extracted replay file (assuming it's an .mgz file)\n",
        "    extracted_file_name = None\n",
        "    for filename in os.listdir(\".\"):\n",
        "        print (filename)\n",
        "        if filename == record_file_name:\n",
        "            extracted_file_name = filename\n",
        "            break\n",
        "\n",
        "    if extracted_file_name:\n",
        "        # Process the extracted replay file\n",
        "        print (\"Extracted file:\", extracted_file_name)\n",
        "    else:\n",
        "        print(\"Error: Could not find extracted replay file (.mgz).\")\n",
        "\n",
        "except zipfile.BadZipFile:\n",
        "    print(f\"Error: {zip_file_name} is not a valid zip file.\")\n",
        "except FileNotFoundError:\n",
        "    print(f\"Error: {zip_file_name} not found.\")\n",
        "except RuntimeError as e:\n",
        "    if \"could not parse\" in str(e):\n",
        "        print(f\"Error parsing the replay file: {e}\")\n",
        "        print(\"The replay file might be corrupted or in an unsupported format.\")\n",
        "        print(\"Please try re-downloading the replay file or using a different one.\")\n",
        "    else:\n",
        "        raise  # Re-raise the exception if it's not related to parsing"
      ],
      "metadata": {
        "colab": {
          "base_uri": "https://localhost:8080/"
        },
        "id": "PtguqwcNEfk1",
        "outputId": "49853b39-d383-43d5-9cb9-2bbc33e9bdc8"
      },
      "execution_count": 132,
      "outputs": [
        {
          "output_type": "stream",
          "name": "stdout",
          "text": [
            "Successfully extracted files from AgeIIDE_Replay_358345344.zip\n",
            ".config\n",
            "AgeIIDE_Replay_358331220.aoe2record.json\n",
            "AgeIIDE_Replay_358106354.zip\n",
            "AgeIIDE_Replay_357732557.zip\n",
            "AgeIIDE_Replay_357732557.aoe2record\n",
            "AgeIIDE_Replay_358345344.aoe2record\n",
            "Extracted file: AgeIIDE_Replay_358345344.aoe2record\n"
          ]
        }
      ]
    },
    {
      "cell_type": "markdown",
      "source": [
        "## Convert file to json"
      ],
      "metadata": {
        "id": "ViLnM8sqOD9M"
      }
    },
    {
      "cell_type": "code",
      "source": [
        "import json\n",
        "! pip install mgz\n",
        "from mgz.model import parse_match, serialize\n",
        "f = extracted_file_name\n",
        "outFile=f\"{extracted_file_name}.json\"\n",
        "print (f)\n",
        "with open(f, 'rb') as h:\n",
        "    match = parse_match(h)\n",
        "    # print(json.dumps(serialize(match), indent=2))\n",
        "    json_object=json.dumps(serialize(match), indent=2)\n",
        "    with open(outFile, \"w\") as o:\n",
        "        o.write(json_object)\n",
        "\n",
        "list_files_with_dynamic_sizes()"
      ],
      "metadata": {
        "colab": {
          "base_uri": "https://localhost:8080/"
        },
        "id": "jObB0hboE1B-",
        "outputId": "4262de7e-bcaa-40f9-93c7-698d79e82764"
      },
      "execution_count": 133,
      "outputs": [
        {
          "output_type": "stream",
          "name": "stdout",
          "text": [
            "Requirement already satisfied: mgz in /usr/local/lib/python3.10/dist-packages (1.8.28)\n",
            "Requirement already satisfied: aocref>=2.0.20 in /usr/local/lib/python3.10/dist-packages (from mgz) (2.0.20)\n",
            "Requirement already satisfied: construct==2.8.16 in /usr/local/lib/python3.10/dist-packages (from mgz) (2.8.16)\n",
            "Requirement already satisfied: tabulate>=0.9.0 in /usr/local/lib/python3.10/dist-packages (from mgz) (0.9.0)\n",
            "AgeIIDE_Replay_358345344.aoe2record\n",
            "AgeIIDE_Replay_358331220.aoe2record.json: 16.02 MB\n",
            "AgeIIDE_Replay_358106354.zip: 1.54 MB\n",
            "AgeIIDE_Replay_357732557.zip: 1.37 MB\n",
            "AgeIIDE_Replay_357732557.aoe2record: 3.09 MB\n",
            "AgeIIDE_Replay_358345344.aoe2record: 3.16 MB\n",
            "AgeIIDE_Replay_358331220.aoe2record: 2.59 MB\n",
            "AgeIIDE_Replay_357732557.aoe2record.json: 16.03 MB\n",
            "AgeIIDE_Replay_358106354.aoe2record: 3.72 MB\n",
            "AgeIIDE_Replay_358345344.zip: 1.48 MB\n",
            "AgeIIDE_Replay_358345344.aoe2record.json: 21.61 MB\n",
            "AgeIIDE_Replay_358331220.zip: 1.37 MB\n"
          ]
        }
      ]
    },
    {
      "cell_type": "markdown",
      "source": [],
      "metadata": {
        "id": "fwLZ_ciXE0oM"
      }
    },
    {
      "cell_type": "markdown",
      "source": [
        "# Analysis"
      ],
      "metadata": {
        "id": "nAmlKEwYOZBS"
      }
    },
    {
      "cell_type": "code",
      "source": [
        "with open(outFile, 'r') as json_file:\n",
        "    json_data = json.load(json_file)"
      ],
      "metadata": {
        "id": "unce9RHyOHP1"
      },
      "execution_count": 134,
      "outputs": []
    },
    {
      "cell_type": "markdown",
      "source": [
        "## Buildings"
      ],
      "metadata": {
        "id": "2zrBs1TWBcxq"
      }
    },
    {
      "cell_type": "code",
      "source": [
        "#! head aoe2de/mtmExtractBuildingsfromJson.py\n",
        "\n",
        "from aoe2de.mtmExtractBuildingsfromJson import BuildingsAnalyzer\n",
        "\n",
        "buildings = BuildingsAnalyzer(outFile)"
      ],
      "metadata": {
        "colab": {
          "base_uri": "https://localhost:8080/"
        },
        "id": "wIKrm6al6iA3",
        "outputId": "d70e8d08-0b7d-462d-f688-077be2c0b6c3"
      },
      "execution_count": 135,
      "outputs": [
        {
          "output_type": "stream",
          "name": "stdout",
          "text": [
            "email_to_mihai 1\n",
            "nyquist 3\n",
            "gabisan 5\n",
            "risk 7\n",
            "CANAFARCI 2\n",
            "衝浪小王子 4\n",
            "sHmOoPie :) 6\n",
            "球球你别跑 8\n",
            "['email_to_mihai', 'CANAFARCI', 'nyquist', '衝浪小王子', 'gabisan', 'sHmOoPie :)', 'risk', '球球你别跑']\n",
            "[{}, {}, {}, {}, {}, {}, {}, {}]\n",
            "+----------------+----------------+-----------+---------+------------+---------+-------------+------+------------+\n",
            "|    Cladire     | email_to_mihai | CANAFARCI | nyquist | 衝浪小王子 | gabisan | sHmOoPie :) | risk | 球球你别跑 |\n",
            "+----------------+----------------+-----------+---------+------------+---------+-------------+------+------------+\n",
            "|     \u001b[0;32;40mHouse      |       37       |     47    |    35   |     41     |    45   |      43     |  28  |     47     |\n",
            "|  \u001b[0;31;40mLumber Camp   |       4        |     4     |    8    |     8      |    4    |      5      |  5   |     7      |\n",
            "| \u001b[0;32;40mPalisade Wall  |       4        |     8     |    3    |     1      |    2    |      2      |  0   |     12     |\n",
            "|      \u001b[0;31;40mMill      |       1        |     2     |    1    |     6      |    3    |      3      |  1   |     5      |\n",
            "|  \u001b[0;32;40mMining Camp   |       2        |     6     |    5    |     7      |    7    |      4      |  5   |     7      |\n",
            "| \u001b[0;31;40mPalisade Gate  |       0        |     0     |    0    |     3      |    0    |      0      |  0   |     7      |\n",
            "|      \u001b[0;32;40mFarm      |       77       |     83    |    41   |     92     |    78   |      65     |  36  |    180     |\n",
            "|    \u001b[0;31;40mBarracks    |       1        |     17    |    8    |     14     |    2    |      10     |  8   |     1      |\n",
            "|    \u001b[0;32;40mOutpost     |       0        |     0     |    0    |     0      |    1    |      0      |  0   |     2      |\n",
            "|     \u001b[0;31;40mMarket     |       3        |     5     |    1    |     7      |    3    |      5      |  4   |     5      |\n",
            "|   \u001b[0;32;40mBlacksmith   |       2        |     1     |    1    |     1      |    1    |      2      |  1   |     1      |\n",
            "|   \u001b[0;31;40mStone Wall   |       4        |     2     |    1    |     0      |    3    |      4      |  0   |     0      |\n",
            "|      \u001b[0;32;40mDock      |       0        |     0     |    0    |     0      |    1    |      0      |  0   |     0      |\n",
            "|      \u001b[0;31;40mGate      |       1        |     2     |    1    |     0      |    6    |      3      |  0   |     0      |\n",
            "|  \u001b[0;32;40mTown Center   |       6        |     4     |    2    |     2      |    5    |      4      |  4   |     3      |\n",
            "|     \u001b[0;31;40mStable     |       17       |     0     |    5    |     10     |    3    |      1      |  7   |     17     |\n",
            "|  \u001b[0;32;40mWatch Tower   |       0        |     0     |    0    |     0      |    1    |      0      |  0   |     0      |\n",
            "|     \u001b[0;31;40mCastle     |       3        |     4     |    1    |     4      |    5    |      3      |  4   |     6      |\n",
            "|   \u001b[0;32;40mMonastery    |       0        |     1     |    1    |     1      |    1    |      0      |  0   |     1      |\n",
            "|   \u001b[0;31;40mUniversity   |       0        |     1     |    1    |     0      |    1    |      1      |  1   |     1      |\n",
            "| \u001b[0;32;40mSiege Workshop |       2        |     4     |    7    |     2      |    9    |      7      |  7   |     6      |\n",
            "|   \u001b[0;31;40mFish Trap    |       0        |     0     |    0    |     0      |    11   |      0      |  0   |     0      |\n",
            "| \u001b[0;32;40mArchery Range  |       7        |     15    |    4    |     0      |    0    |      0      |  0   |     0      |\n",
            "+----------------+----------------+-----------+---------+------------+---------+-------------+------+------------+\n"
          ]
        }
      ]
    },
    {
      "cell_type": "code",
      "source": [
        "def discordMessage(content):\n",
        "  from google.colab import userdata\n",
        "  userdata.get('webhook')\n",
        "\n",
        "  import requests\n",
        "\n",
        "  webhook_url = userdata.get('webhook')\n",
        "  data = {\"content\": content}\n",
        "\n",
        "  response = requests.post(webhook_url, json=data)\n",
        "\n",
        "  if response.status_code == 204:\n",
        "      print(\"Message sent successfully!\")\n",
        "  else:\n",
        "      print(f\"Failed to send message: {response.status_code}\")\n",
        "\n",
        "\n",
        "discordMessage(f\"Latest game:{game_id}\")\n",
        "\n",
        "\n"
      ],
      "metadata": {
        "colab": {
          "base_uri": "https://localhost:8080/"
        },
        "id": "aIiZv6Foe0pa",
        "outputId": "8ca8a4cc-6dea-4c0f-9b78-b3e52ad93948"
      },
      "execution_count": 136,
      "outputs": [
        {
          "output_type": "stream",
          "name": "stdout",
          "text": [
            "Message sent successfully!\n"
          ]
        }
      ]
    },
    {
      "cell_type": "markdown",
      "source": [
        "## Army"
      ],
      "metadata": {
        "id": "WKRG_-ixdKPr"
      }
    }
  ]
}